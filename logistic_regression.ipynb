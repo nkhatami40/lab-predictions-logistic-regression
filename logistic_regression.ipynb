{
 "cells": [
  {
   "cell_type": "code",
   "execution_count": 1,
   "id": "2daec6a5",
   "metadata": {},
   "outputs": [
    {
     "name": "stdout",
     "output_type": "stream",
     "text": [
      "········\n"
     ]
    }
   ],
   "source": [
    "import pymysql\n",
    "from sqlalchemy import create_engine\n",
    "import pandas as pd\n",
    "import getpass  # To get the password without showing the input\n",
    "from sklearn.preprocessing import StandardScaler\n",
    "import numpy as np\n",
    "import matplotlib.pyplot as plt\n",
    "from sklearn.model_selection import train_test_split\n",
    "from sklearn.linear_model import LogisticRegression\n",
    "import seaborn as sns\n",
    "\n",
    "#%matplotlib inline\n",
    "password = getpass.getpass()\n",
    "connection_string = 'mysql+pymysql://root:' + password + '@localhost/sakila'\n",
    "engine = create_engine(connection_string)"
   ]
  },
  {
   "cell_type": "markdown",
   "id": "40d87e93",
   "metadata": {},
   "source": [
    "# Connect with SQL"
   ]
  },
  {
   "cell_type": "code",
   "execution_count": 2,
   "id": "b0e6e53f",
   "metadata": {
    "scrolled": true
   },
   "outputs": [
    {
     "data": {
      "text/html": [
       "<div>\n",
       "<style scoped>\n",
       "    .dataframe tbody tr th:only-of-type {\n",
       "        vertical-align: middle;\n",
       "    }\n",
       "\n",
       "    .dataframe tbody tr th {\n",
       "        vertical-align: top;\n",
       "    }\n",
       "\n",
       "    .dataframe thead th {\n",
       "        text-align: right;\n",
       "    }\n",
       "</style>\n",
       "<table border=\"1\" class=\"dataframe\">\n",
       "  <thead>\n",
       "    <tr style=\"text-align: right;\">\n",
       "      <th></th>\n",
       "      <th>rental_id</th>\n",
       "      <th>category_id</th>\n",
       "      <th>special_features</th>\n",
       "      <th>title</th>\n",
       "      <th>rental_date</th>\n",
       "      <th>rental_duration</th>\n",
       "      <th>return_date</th>\n",
       "      <th>popularity_score</th>\n",
       "    </tr>\n",
       "  </thead>\n",
       "  <tbody>\n",
       "    <tr>\n",
       "      <th>0</th>\n",
       "      <td>16005</td>\n",
       "      <td>15</td>\n",
       "      <td>Behind the Scenes</td>\n",
       "      <td>RECORDS ZORRO</td>\n",
       "      <td>2005-08-23 21:00:22</td>\n",
       "      <td>7</td>\n",
       "      <td>2005-09-02 02:35:22</td>\n",
       "      <td>23</td>\n",
       "    </tr>\n",
       "    <tr>\n",
       "      <th>1</th>\n",
       "      <td>16040</td>\n",
       "      <td>7</td>\n",
       "      <td>Commentaries,Deleted Scenes</td>\n",
       "      <td>SCORPION APOLLO</td>\n",
       "      <td>2005-08-23 22:19:33</td>\n",
       "      <td>3</td>\n",
       "      <td>2005-09-02 02:19:33</td>\n",
       "      <td>19</td>\n",
       "    </tr>\n",
       "    <tr>\n",
       "      <th>2</th>\n",
       "      <td>15971</td>\n",
       "      <td>7</td>\n",
       "      <td>Deleted Scenes</td>\n",
       "      <td>SAINTS BRIDE</td>\n",
       "      <td>2005-08-23 19:59:33</td>\n",
       "      <td>5</td>\n",
       "      <td>2005-09-02 01:28:33</td>\n",
       "      <td>28</td>\n",
       "    </tr>\n",
       "    <tr>\n",
       "      <th>3</th>\n",
       "      <td>15928</td>\n",
       "      <td>9</td>\n",
       "      <td>Commentaries,Behind the Scenes</td>\n",
       "      <td>ILLUSION AMELIE</td>\n",
       "      <td>2005-08-23 18:23:24</td>\n",
       "      <td>4</td>\n",
       "      <td>2005-09-01 23:43:24</td>\n",
       "      <td>41</td>\n",
       "    </tr>\n",
       "    <tr>\n",
       "      <th>4</th>\n",
       "      <td>15922</td>\n",
       "      <td>3</td>\n",
       "      <td>Deleted Scenes,Behind the Scenes</td>\n",
       "      <td>GORGEOUS BINGO</td>\n",
       "      <td>2005-08-23 18:07:31</td>\n",
       "      <td>4</td>\n",
       "      <td>2005-09-01 22:27:31</td>\n",
       "      <td>29</td>\n",
       "    </tr>\n",
       "  </tbody>\n",
       "</table>\n",
       "</div>"
      ],
      "text/plain": [
       "   rental_id  category_id                  special_features            title  \\\n",
       "0      16005           15                 Behind the Scenes    RECORDS ZORRO   \n",
       "1      16040            7       Commentaries,Deleted Scenes  SCORPION APOLLO   \n",
       "2      15971            7                    Deleted Scenes     SAINTS BRIDE   \n",
       "3      15928            9    Commentaries,Behind the Scenes  ILLUSION AMELIE   \n",
       "4      15922            3  Deleted Scenes,Behind the Scenes   GORGEOUS BINGO   \n",
       "\n",
       "          rental_date  rental_duration         return_date  popularity_score  \n",
       "0 2005-08-23 21:00:22                7 2005-09-02 02:35:22                23  \n",
       "1 2005-08-23 22:19:33                3 2005-09-02 02:19:33                19  \n",
       "2 2005-08-23 19:59:33                5 2005-09-02 01:28:33                28  \n",
       "3 2005-08-23 18:23:24                4 2005-09-01 23:43:24                41  \n",
       "4 2005-08-23 18:07:31                4 2005-09-01 22:27:31                29  "
      ]
     },
     "execution_count": 2,
     "metadata": {},
     "output_type": "execute_result"
    }
   ],
   "source": [
    "query = '''SELECT rental_id,category_id, special_features, title, rental_date, rental_duration, return_date, COUNT(rental_id) OVER (Partition by customer_id) popularity_score\n",
    "FROM rental r\n",
    "JOIN inventory i\n",
    "USING(inventory_id)\n",
    "JOIN film f\n",
    "USING(film_id)\n",
    "JOIN film_category\n",
    "USING(film_id)\n",
    "ORDER BY return_date DESC;'''\n",
    "\n",
    "data = pd.read_sql_query(query, engine)\n",
    "data.head()"
   ]
  },
  {
   "cell_type": "markdown",
   "id": "23717b00",
   "metadata": {},
   "source": [
    "*I thought that the category, special_features, rating, title, rental_duration, and the number of the times that a movies has been rented as a popularity_score can be important to show if a movie is more popular and more probable to be rented*"
   ]
  },
  {
   "cell_type": "markdown",
   "id": "ce9ab687",
   "metadata": {},
   "source": [
    "# Exploring Data: Analyze extracted features and transform them. You may need to encode some categorical variables, or scale numerical variables."
   ]
  },
  {
   "cell_type": "code",
   "execution_count": 3,
   "id": "8e48d24d",
   "metadata": {
    "scrolled": false
   },
   "outputs": [
    {
     "data": {
      "text/plain": [
       "2006-02-14 15:16:03    182\n",
       "2005-08-19 16:47:41      2\n",
       "2005-07-27 08:14:34      2\n",
       "2005-08-01 12:44:17      2\n",
       "2005-08-22 04:51:42      2\n",
       "                      ... \n",
       "2005-07-31 08:56:08      1\n",
       "2005-08-01 05:10:02      1\n",
       "2005-08-02 06:52:54      1\n",
       "2005-07-30 05:12:01      1\n",
       "2005-08-21 00:30:32      1\n",
       "Name: rental_date, Length: 15815, dtype: int64"
      ]
     },
     "execution_count": 3,
     "metadata": {},
     "output_type": "execute_result"
    }
   ],
   "source": [
    "data['rental_date'].value_counts()"
   ]
  },
  {
   "cell_type": "code",
   "execution_count": 4,
   "id": "362ae66b",
   "metadata": {},
   "outputs": [
    {
     "data": {
      "text/html": [
       "<div>\n",
       "<style scoped>\n",
       "    .dataframe tbody tr th:only-of-type {\n",
       "        vertical-align: middle;\n",
       "    }\n",
       "\n",
       "    .dataframe tbody tr th {\n",
       "        vertical-align: top;\n",
       "    }\n",
       "\n",
       "    .dataframe thead th {\n",
       "        text-align: right;\n",
       "    }\n",
       "</style>\n",
       "<table border=\"1\" class=\"dataframe\">\n",
       "  <thead>\n",
       "    <tr style=\"text-align: right;\">\n",
       "      <th></th>\n",
       "      <th>rental_id</th>\n",
       "      <th>category_id</th>\n",
       "      <th>special_features</th>\n",
       "      <th>title</th>\n",
       "      <th>rental_date</th>\n",
       "      <th>rental_duration</th>\n",
       "      <th>return_date</th>\n",
       "      <th>popularity_score</th>\n",
       "    </tr>\n",
       "  </thead>\n",
       "  <tbody>\n",
       "    <tr>\n",
       "      <th>5397</th>\n",
       "      <td>9023</td>\n",
       "      <td>8</td>\n",
       "      <td>Deleted Scenes</td>\n",
       "      <td>OPPOSITE NECKLACE</td>\n",
       "      <td>2005-07-30 05:36:40</td>\n",
       "      <td>7</td>\n",
       "      <td>2005-08-07 06:20:40</td>\n",
       "      <td>46</td>\n",
       "    </tr>\n",
       "    <tr>\n",
       "      <th>9214</th>\n",
       "      <td>6169</td>\n",
       "      <td>8</td>\n",
       "      <td>Trailers,Commentaries,Behind the Scenes</td>\n",
       "      <td>MUSIC BOONDOCK</td>\n",
       "      <td>2005-07-11 10:25:56</td>\n",
       "      <td>7</td>\n",
       "      <td>2005-07-19 07:18:56</td>\n",
       "      <td>46</td>\n",
       "    </tr>\n",
       "    <tr>\n",
       "      <th>1311</th>\n",
       "      <td>14965</td>\n",
       "      <td>8</td>\n",
       "      <td>Trailers,Behind the Scenes</td>\n",
       "      <td>DINOSAUR SECRETARY</td>\n",
       "      <td>2005-08-22 06:45:53</td>\n",
       "      <td>7</td>\n",
       "      <td>2005-08-27 10:05:53</td>\n",
       "      <td>46</td>\n",
       "    </tr>\n",
       "    <tr>\n",
       "      <th>8974</th>\n",
       "      <td>6640</td>\n",
       "      <td>10</td>\n",
       "      <td>Trailers,Commentaries,Behind the Scenes</td>\n",
       "      <td>NAME DETECTIVE</td>\n",
       "      <td>2005-07-12 10:27:19</td>\n",
       "      <td>5</td>\n",
       "      <td>2005-07-21 06:28:19</td>\n",
       "      <td>46</td>\n",
       "    </tr>\n",
       "    <tr>\n",
       "      <th>1581</th>\n",
       "      <td>12512</td>\n",
       "      <td>14</td>\n",
       "      <td>Trailers,Behind the Scenes</td>\n",
       "      <td>SUN CONFESSIONS</td>\n",
       "      <td>2005-08-18 13:28:27</td>\n",
       "      <td>5</td>\n",
       "      <td>2005-08-26 19:08:27</td>\n",
       "      <td>46</td>\n",
       "    </tr>\n",
       "    <tr>\n",
       "      <th>...</th>\n",
       "      <td>...</td>\n",
       "      <td>...</td>\n",
       "      <td>...</td>\n",
       "      <td>...</td>\n",
       "      <td>...</td>\n",
       "      <td>...</td>\n",
       "      <td>...</td>\n",
       "      <td>...</td>\n",
       "    </tr>\n",
       "    <tr>\n",
       "      <th>12308</th>\n",
       "      <td>3732</td>\n",
       "      <td>1</td>\n",
       "      <td>Commentaries,Behind the Scenes</td>\n",
       "      <td>AMERICAN CIRCUS</td>\n",
       "      <td>2005-07-06 11:33:37</td>\n",
       "      <td>3</td>\n",
       "      <td>2005-07-08 08:31:37</td>\n",
       "      <td>12</td>\n",
       "    </tr>\n",
       "    <tr>\n",
       "      <th>15051</th>\n",
       "      <td>224</td>\n",
       "      <td>13</td>\n",
       "      <td>Trailers,Commentaries</td>\n",
       "      <td>VAMPIRE WHALE</td>\n",
       "      <td>2005-05-26 10:18:27</td>\n",
       "      <td>4</td>\n",
       "      <td>2005-06-04 06:59:27</td>\n",
       "      <td>12</td>\n",
       "    </tr>\n",
       "    <tr>\n",
       "      <th>13768</th>\n",
       "      <td>3337</td>\n",
       "      <td>6</td>\n",
       "      <td>Commentaries</td>\n",
       "      <td>DUFFEL APOCALYPSE</td>\n",
       "      <td>2005-06-21 10:24:35</td>\n",
       "      <td>5</td>\n",
       "      <td>2005-06-22 13:51:35</td>\n",
       "      <td>12</td>\n",
       "    </tr>\n",
       "    <tr>\n",
       "      <th>12858</th>\n",
       "      <td>2643</td>\n",
       "      <td>7</td>\n",
       "      <td>Commentaries</td>\n",
       "      <td>HOBBIT ALIEN</td>\n",
       "      <td>2005-06-19 09:39:27</td>\n",
       "      <td>5</td>\n",
       "      <td>2005-06-26 10:27:27</td>\n",
       "      <td>12</td>\n",
       "    </tr>\n",
       "    <tr>\n",
       "      <th>4657</th>\n",
       "      <td>10023</td>\n",
       "      <td>6</td>\n",
       "      <td>Deleted Scenes</td>\n",
       "      <td>BONNIE HOLOCAUST</td>\n",
       "      <td>2005-07-31 18:25:51</td>\n",
       "      <td>4</td>\n",
       "      <td>2005-08-09 18:00:51</td>\n",
       "      <td>12</td>\n",
       "    </tr>\n",
       "  </tbody>\n",
       "</table>\n",
       "<p>16044 rows × 8 columns</p>\n",
       "</div>"
      ],
      "text/plain": [
       "       rental_id  category_id                         special_features  \\\n",
       "5397        9023            8                           Deleted Scenes   \n",
       "9214        6169            8  Trailers,Commentaries,Behind the Scenes   \n",
       "1311       14965            8               Trailers,Behind the Scenes   \n",
       "8974        6640           10  Trailers,Commentaries,Behind the Scenes   \n",
       "1581       12512           14               Trailers,Behind the Scenes   \n",
       "...          ...          ...                                      ...   \n",
       "12308       3732            1           Commentaries,Behind the Scenes   \n",
       "15051        224           13                    Trailers,Commentaries   \n",
       "13768       3337            6                             Commentaries   \n",
       "12858       2643            7                             Commentaries   \n",
       "4657       10023            6                           Deleted Scenes   \n",
       "\n",
       "                    title         rental_date  rental_duration  \\\n",
       "5397    OPPOSITE NECKLACE 2005-07-30 05:36:40                7   \n",
       "9214       MUSIC BOONDOCK 2005-07-11 10:25:56                7   \n",
       "1311   DINOSAUR SECRETARY 2005-08-22 06:45:53                7   \n",
       "8974       NAME DETECTIVE 2005-07-12 10:27:19                5   \n",
       "1581      SUN CONFESSIONS 2005-08-18 13:28:27                5   \n",
       "...                   ...                 ...              ...   \n",
       "12308     AMERICAN CIRCUS 2005-07-06 11:33:37                3   \n",
       "15051       VAMPIRE WHALE 2005-05-26 10:18:27                4   \n",
       "13768   DUFFEL APOCALYPSE 2005-06-21 10:24:35                5   \n",
       "12858        HOBBIT ALIEN 2005-06-19 09:39:27                5   \n",
       "4657     BONNIE HOLOCAUST 2005-07-31 18:25:51                4   \n",
       "\n",
       "              return_date  popularity_score  \n",
       "5397  2005-08-07 06:20:40                46  \n",
       "9214  2005-07-19 07:18:56                46  \n",
       "1311  2005-08-27 10:05:53                46  \n",
       "8974  2005-07-21 06:28:19                46  \n",
       "1581  2005-08-26 19:08:27                46  \n",
       "...                   ...               ...  \n",
       "12308 2005-07-08 08:31:37                12  \n",
       "15051 2005-06-04 06:59:27                12  \n",
       "13768 2005-06-22 13:51:35                12  \n",
       "12858 2005-06-26 10:27:27                12  \n",
       "4657  2005-08-09 18:00:51                12  \n",
       "\n",
       "[16044 rows x 8 columns]"
      ]
     },
     "execution_count": 4,
     "metadata": {},
     "output_type": "execute_result"
    }
   ],
   "source": [
    "data.sort_values(['popularity_score'], ascending = False)"
   ]
  },
  {
   "cell_type": "code",
   "execution_count": 5,
   "id": "b1b328c4",
   "metadata": {
    "scrolled": true
   },
   "outputs": [
    {
     "data": {
      "text/plain": [
       "BUCKET BROTHERHOOD     34\n",
       "ROCKETEER MOTHER       33\n",
       "JUGGLER HARDLY         32\n",
       "RIDGEMONT SUBMARINE    32\n",
       "FORWARD TEMPLE         32\n",
       "                       ..\n",
       "BRAVEHEART HUMAN        5\n",
       "MANNEQUIN WORST         5\n",
       "TRAIN BUNCH             4\n",
       "HARDLY ROBBERS          4\n",
       "MIXED DOORS             4\n",
       "Name: title, Length: 958, dtype: int64"
      ]
     },
     "execution_count": 5,
     "metadata": {},
     "output_type": "execute_result"
    }
   ],
   "source": [
    "data['title'].value_counts() #Checking which movie has been rented the most"
   ]
  },
  {
   "cell_type": "markdown",
   "id": "4295aaa4",
   "metadata": {},
   "source": [
    "*Movie BUCKET BROTHERHOOD has been rented more than others.*"
   ]
  },
  {
   "cell_type": "code",
   "execution_count": 6,
   "id": "41b01137",
   "metadata": {},
   "outputs": [
    {
     "data": {
      "text/plain": [
       "(16044, 8)"
      ]
     },
     "execution_count": 6,
     "metadata": {},
     "output_type": "execute_result"
    }
   ],
   "source": [
    "data.shape #checking the number of rows and columns"
   ]
  },
  {
   "cell_type": "code",
   "execution_count": 7,
   "id": "112558c4",
   "metadata": {
    "scrolled": true
   },
   "outputs": [
    {
     "name": "stdout",
     "output_type": "stream",
     "text": [
      "<class 'pandas.core.frame.DataFrame'>\n",
      "RangeIndex: 16044 entries, 0 to 16043\n",
      "Data columns (total 8 columns):\n",
      " #   Column            Non-Null Count  Dtype         \n",
      "---  ------            --------------  -----         \n",
      " 0   rental_id         16044 non-null  int64         \n",
      " 1   category_id       16044 non-null  int64         \n",
      " 2   special_features  16044 non-null  object        \n",
      " 3   title             16044 non-null  object        \n",
      " 4   rental_date       16044 non-null  datetime64[ns]\n",
      " 5   rental_duration   16044 non-null  int64         \n",
      " 6   return_date       15861 non-null  datetime64[ns]\n",
      " 7   popularity_score  16044 non-null  int64         \n",
      "dtypes: datetime64[ns](2), int64(4), object(2)\n",
      "memory usage: 1002.9+ KB\n"
     ]
    }
   ],
   "source": [
    "data.info() #checking the type of the columns"
   ]
  },
  {
   "cell_type": "code",
   "execution_count": 8,
   "id": "df614f10",
   "metadata": {
    "scrolled": false
   },
   "outputs": [
    {
     "data": {
      "text/plain": [
       "rental_id             0\n",
       "category_id           0\n",
       "special_features      0\n",
       "title                 0\n",
       "rental_date           0\n",
       "rental_duration       0\n",
       "return_date         183\n",
       "popularity_score      0\n",
       "dtype: int64"
      ]
     },
     "execution_count": 8,
     "metadata": {},
     "output_type": "execute_result"
    }
   ],
   "source": [
    "data.isna().sum() #checking the number of nulls in each column"
   ]
  },
  {
   "cell_type": "markdown",
   "id": "2b81258f",
   "metadata": {},
   "source": [
    "*column return_date has 183 nulls. So we should deal with them. As the column that has the null values is 'return_date' it may mean that the movies without return date are still rented. Therefore, I'll fill them with 'unknown'.*"
   ]
  },
  {
   "cell_type": "code",
   "execution_count": 9,
   "id": "2b6e8d69",
   "metadata": {},
   "outputs": [],
   "source": [
    "data[\"return_date\"].fillna(\"unknown\", inplace = True)"
   ]
  },
  {
   "cell_type": "code",
   "execution_count": 10,
   "id": "4be41d13",
   "metadata": {},
   "outputs": [
    {
     "data": {
      "text/plain": [
       "rental_id           0\n",
       "category_id         0\n",
       "special_features    0\n",
       "title               0\n",
       "rental_date         0\n",
       "rental_duration     0\n",
       "return_date         0\n",
       "popularity_score    0\n",
       "dtype: int64"
      ]
     },
     "execution_count": 10,
     "metadata": {},
     "output_type": "execute_result"
    }
   ],
   "source": [
    "data.isna().sum() #check the null values again"
   ]
  },
  {
   "cell_type": "markdown",
   "id": "a32d72a9",
   "metadata": {},
   "source": [
    "# EDA"
   ]
  },
  {
   "cell_type": "code",
   "execution_count": 11,
   "id": "b8e28b79",
   "metadata": {
    "scrolled": true
   },
   "outputs": [
    {
     "data": {
      "image/png": "[encoded data removed]",
      "text/plain": [
       "<Figure size 1000x800 with 2 Axes>"
      ]
     },
     "metadata": {},
     "output_type": "display_data"
    }
   ],
   "source": [
    "corr_matrix=data.corr(method='pearson')  # default\n",
    "fig, ax = plt.subplots(figsize=(10, 8))\n",
    "ax = sns.heatmap(corr_matrix, annot=True)\n",
    "plt.show()"
   ]
  },
  {
   "cell_type": "markdown",
   "id": "3c212fb9",
   "metadata": {},
   "source": [
    "*I don't see any high correlation between the columns.*"
   ]
  },
  {
   "cell_type": "code",
   "execution_count": 12,
   "id": "d4671d70",
   "metadata": {},
   "outputs": [
    {
     "name": "stderr",
     "output_type": "stream",
     "text": [
      "C:\\ProgramData\\Anaconda3\\lib\\site-packages\\seaborn\\distributions.py:2619: FutureWarning: `distplot` is a deprecated function and will be removed in a future version. Please adapt your code to use either `displot` (a figure-level function with similar flexibility) or `histplot` (an axes-level function for histograms).\n",
      "  warnings.warn(msg, FutureWarning)\n"
     ]
    },
    {
     "data": {
      "image/png": "[encoded data removed]",
      "text/plain": [
       "<Figure size 640x480 with 1 Axes>"
      ]
     },
     "metadata": {},
     "output_type": "display_data"
    }
   ],
   "source": [
    "sns.distplot(data['rental_duration'])\n",
    "plt.show()"
   ]
  },
  {
   "cell_type": "code",
   "execution_count": 13,
   "id": "51cb6486",
   "metadata": {
    "scrolled": false
   },
   "outputs": [
    {
     "name": "stderr",
     "output_type": "stream",
     "text": [
      "C:\\ProgramData\\Anaconda3\\lib\\site-packages\\seaborn\\distributions.py:2619: FutureWarning: `distplot` is a deprecated function and will be removed in a future version. Please adapt your code to use either `displot` (a figure-level function with similar flexibility) or `histplot` (an axes-level function for histograms).\n",
      "  warnings.warn(msg, FutureWarning)\n"
     ]
    },
    {
     "data": {
      "image/png": "[encoded data removed]",
      "text/plain": [
       "<Figure size 640x480 with 1 Axes>"
      ]
     },
     "metadata": {},
     "output_type": "display_data"
    }
   ],
   "source": [
    "sns.distplot(data['popularity_score'])\n",
    "plt.show()"
   ]
  },
  {
   "cell_type": "code",
   "execution_count": 14,
   "id": "54ef3abd",
   "metadata": {
    "scrolled": true
   },
   "outputs": [
    {
     "name": "stderr",
     "output_type": "stream",
     "text": [
      "C:\\ProgramData\\Anaconda3\\lib\\site-packages\\seaborn\\distributions.py:2619: FutureWarning: `distplot` is a deprecated function and will be removed in a future version. Please adapt your code to use either `displot` (a figure-level function with similar flexibility) or `histplot` (an axes-level function for histograms).\n",
      "  warnings.warn(msg, FutureWarning)\n"
     ]
    },
    {
     "data": {
      "image/png": "[encoded data removed]",
      "text/plain": [
       "<Figure size 640x480 with 1 Axes>"
      ]
     },
     "metadata": {},
     "output_type": "display_data"
    }
   ],
   "source": [
    "sns.distplot(data['category_id'])\n",
    "plt.show()"
   ]
  },
  {
   "cell_type": "code",
   "execution_count": 15,
   "id": "d02d21ea",
   "metadata": {},
   "outputs": [
    {
     "data": {
      "text/html": [
       "<div>\n",
       "<style scoped>\n",
       "    .dataframe tbody tr th:only-of-type {\n",
       "        vertical-align: middle;\n",
       "    }\n",
       "\n",
       "    .dataframe tbody tr th {\n",
       "        vertical-align: top;\n",
       "    }\n",
       "\n",
       "    .dataframe thead th {\n",
       "        text-align: right;\n",
       "    }\n",
       "</style>\n",
       "<table border=\"1\" class=\"dataframe\">\n",
       "  <thead>\n",
       "    <tr style=\"text-align: right;\">\n",
       "      <th></th>\n",
       "      <th>rental_id</th>\n",
       "      <th>category_id</th>\n",
       "      <th>special_features</th>\n",
       "      <th>title</th>\n",
       "      <th>rental_date</th>\n",
       "      <th>rental_duration</th>\n",
       "      <th>return_date</th>\n",
       "      <th>popularity_score</th>\n",
       "      <th>rented_last_month</th>\n",
       "    </tr>\n",
       "  </thead>\n",
       "  <tbody>\n",
       "    <tr>\n",
       "      <th>0</th>\n",
       "      <td>4611</td>\n",
       "      <td>15</td>\n",
       "      <td>Commentaries,Deleted Scenes</td>\n",
       "      <td>SATURDAY LAMBS</td>\n",
       "      <td>2005-07-08 07:33:56</td>\n",
       "      <td>3</td>\n",
       "      <td>2005-07-12 13:25:56</td>\n",
       "      <td>32</td>\n",
       "      <td>NO</td>\n",
       "    </tr>\n",
       "    <tr>\n",
       "      <th>1</th>\n",
       "      <td>2363</td>\n",
       "      <td>7</td>\n",
       "      <td>Commentaries,Deleted Scenes,Behind the Scenes</td>\n",
       "      <td>SAVANNAH TOWN</td>\n",
       "      <td>2005-06-18 13:33:59</td>\n",
       "      <td>5</td>\n",
       "      <td>2005-06-19 17:40:59</td>\n",
       "      <td>32</td>\n",
       "      <td>NO</td>\n",
       "    </tr>\n",
       "    <tr>\n",
       "      <th>2</th>\n",
       "      <td>5244</td>\n",
       "      <td>5</td>\n",
       "      <td>Commentaries</td>\n",
       "      <td>SNATCH SLIPPER</td>\n",
       "      <td>2005-07-09 13:24:07</td>\n",
       "      <td>6</td>\n",
       "      <td>2005-07-14 14:01:07</td>\n",
       "      <td>32</td>\n",
       "      <td>NO</td>\n",
       "    </tr>\n",
       "    <tr>\n",
       "      <th>3</th>\n",
       "      <td>573</td>\n",
       "      <td>15</td>\n",
       "      <td>Commentaries,Deleted Scenes,Behind the Scenes</td>\n",
       "      <td>TALENTED HOMICIDE</td>\n",
       "      <td>2005-05-28 10:35:23</td>\n",
       "      <td>6</td>\n",
       "      <td>2005-06-03 06:32:23</td>\n",
       "      <td>32</td>\n",
       "      <td>NO</td>\n",
       "    </tr>\n",
       "    <tr>\n",
       "      <th>4</th>\n",
       "      <td>14762</td>\n",
       "      <td>14</td>\n",
       "      <td>Trailers,Commentaries,Behind the Scenes</td>\n",
       "      <td>UNFORGIVEN ZOOLANDER</td>\n",
       "      <td>2005-08-21 23:33:57</td>\n",
       "      <td>7</td>\n",
       "      <td>2005-08-23 01:30:57</td>\n",
       "      <td>32</td>\n",
       "      <td>NO</td>\n",
       "    </tr>\n",
       "  </tbody>\n",
       "</table>\n",
       "</div>"
      ],
      "text/plain": [
       "   rental_id  category_id                               special_features  \\\n",
       "0       4611           15                    Commentaries,Deleted Scenes   \n",
       "1       2363            7  Commentaries,Deleted Scenes,Behind the Scenes   \n",
       "2       5244            5                                   Commentaries   \n",
       "3        573           15  Commentaries,Deleted Scenes,Behind the Scenes   \n",
       "4      14762           14        Trailers,Commentaries,Behind the Scenes   \n",
       "\n",
       "                  title         rental_date  rental_duration  \\\n",
       "0        SATURDAY LAMBS 2005-07-08 07:33:56                3   \n",
       "1         SAVANNAH TOWN 2005-06-18 13:33:59                5   \n",
       "2        SNATCH SLIPPER 2005-07-09 13:24:07                6   \n",
       "3     TALENTED HOMICIDE 2005-05-28 10:35:23                6   \n",
       "4  UNFORGIVEN ZOOLANDER 2005-08-21 23:33:57                7   \n",
       "\n",
       "          return_date  popularity_score rented_last_month  \n",
       "0 2005-07-12 13:25:56                32                NO  \n",
       "1 2005-06-19 17:40:59                32                NO  \n",
       "2 2005-07-14 14:01:07                32                NO  \n",
       "3 2005-06-03 06:32:23                32                NO  \n",
       "4 2005-08-23 01:30:57                32                NO  "
      ]
     },
     "execution_count": 15,
     "metadata": {},
     "output_type": "execute_result"
    }
   ],
   "source": [
    "#Creating a dataframe including the target column (IF a movie has been rented last month)\n",
    "query = '''SELECT rental_id,category_id, special_features, title, rental_date, rental_duration, return_date, COUNT(rental_id) OVER (Partition by customer_id) popularity_score, IF(return_date between '2005-09-01' and '2005-09-30', \"YES\", \"NO\") AS 'rented_last_month'\n",
    "FROM rental r\n",
    "JOIN inventory i\n",
    "USING(inventory_id)\n",
    "JOIN film f\n",
    "USING(film_id)\n",
    "JOIN film_category\n",
    "USING(film_id)\n",
    ";'''\n",
    "\n",
    "data2 = pd.read_sql_query(query, engine)\n",
    "data2.head()"
   ]
  },
  {
   "cell_type": "markdown",
   "id": "c4db4729",
   "metadata": {},
   "source": [
    "# Normalizing numerical columns"
   ]
  },
  {
   "cell_type": "code",
   "execution_count": 16,
   "id": "2f67f121",
   "metadata": {
    "scrolled": true
   },
   "outputs": [
    {
     "data": {
      "text/html": [
       "<div>\n",
       "<style scoped>\n",
       "    .dataframe tbody tr th:only-of-type {\n",
       "        vertical-align: middle;\n",
       "    }\n",
       "\n",
       "    .dataframe tbody tr th {\n",
       "        vertical-align: top;\n",
       "    }\n",
       "\n",
       "    .dataframe thead th {\n",
       "        text-align: right;\n",
       "    }\n",
       "</style>\n",
       "<table border=\"1\" class=\"dataframe\">\n",
       "  <thead>\n",
       "    <tr style=\"text-align: right;\">\n",
       "      <th></th>\n",
       "      <th>rental_duration</th>\n",
       "      <th>popularity_score</th>\n",
       "      <th>category_id</th>\n",
       "    </tr>\n",
       "  </thead>\n",
       "  <tbody>\n",
       "    <tr>\n",
       "      <th>0</th>\n",
       "      <td>-1.380869</td>\n",
       "      <td>0.825211</td>\n",
       "      <td>1.426927</td>\n",
       "    </tr>\n",
       "    <tr>\n",
       "      <th>1</th>\n",
       "      <td>0.046025</td>\n",
       "      <td>0.825211</td>\n",
       "      <td>-0.293298</td>\n",
       "    </tr>\n",
       "    <tr>\n",
       "      <th>2</th>\n",
       "      <td>0.759471</td>\n",
       "      <td>0.825211</td>\n",
       "      <td>-0.723354</td>\n",
       "    </tr>\n",
       "    <tr>\n",
       "      <th>3</th>\n",
       "      <td>0.759471</td>\n",
       "      <td>0.825211</td>\n",
       "      <td>1.426927</td>\n",
       "    </tr>\n",
       "    <tr>\n",
       "      <th>4</th>\n",
       "      <td>1.472918</td>\n",
       "      <td>0.825211</td>\n",
       "      <td>1.211899</td>\n",
       "    </tr>\n",
       "  </tbody>\n",
       "</table>\n",
       "</div>"
      ],
      "text/plain": [
       "   rental_duration  popularity_score  category_id\n",
       "0        -1.380869          0.825211     1.426927\n",
       "1         0.046025          0.825211    -0.293298\n",
       "2         0.759471          0.825211    -0.723354\n",
       "3         0.759471          0.825211     1.426927\n",
       "4         1.472918          0.825211     1.211899"
      ]
     },
     "execution_count": 16,
     "metadata": {},
     "output_type": "execute_result"
    }
   ],
   "source": [
    "#I have chosen the numerical features that can affect the target for normalization:\n",
    "df = data2[['rental_duration', 'popularity_score','category_id']]\n",
    "X = df.select_dtypes(include = np.number)\n",
    "\n",
    "transformer = StandardScaler().fit(X)\n",
    "x_normalized = transformer.transform(X)\n",
    "x = pd.DataFrame(x_normalized)\n",
    "x.columns = X.columns\n",
    "x.head()"
   ]
  },
  {
   "cell_type": "markdown",
   "id": "0c4a1693",
   "metadata": {},
   "source": [
    "# Encoding the categorical columns\n"
   ]
  },
  {
   "cell_type": "code",
   "execution_count": 17,
   "id": "f16e827d",
   "metadata": {},
   "outputs": [
    {
     "name": "stderr",
     "output_type": "stream",
     "text": [
      "C:\\Users\\nkhat\\AppData\\Local\\Temp\\ipykernel_12400\\3828319839.py:1: DeprecationWarning: `np.object` is a deprecated alias for the builtin `object`. To silence this warning, use `object` by itself. Doing this will not modify any behavior and is safe. \n",
      "Deprecated in NumPy 1.20; for more details and guidance: https://numpy.org/devdocs/release/1.20.0-notes.html#deprecations\n",
      "  cat = data2.select_dtypes(include = np.object)\n"
     ]
    }
   ],
   "source": [
    "cat = data2.select_dtypes(include = np.object)\n",
    "cat = cat.drop(['rented_last_month'], axis=1) #removing the target column which is an object\n",
    "categorical = pd.get_dummies(cat, columns=['special_features', 'title']) #Encoding the categorical columns"
   ]
  },
  {
   "cell_type": "code",
   "execution_count": 18,
   "id": "20fb3e31",
   "metadata": {},
   "outputs": [
    {
     "data": {
      "text/html": [
       "<div>\n",
       "<style scoped>\n",
       "    .dataframe tbody tr th:only-of-type {\n",
       "        vertical-align: middle;\n",
       "    }\n",
       "\n",
       "    .dataframe tbody tr th {\n",
       "        vertical-align: top;\n",
       "    }\n",
       "\n",
       "    .dataframe thead th {\n",
       "        text-align: right;\n",
       "    }\n",
       "</style>\n",
       "<table border=\"1\" class=\"dataframe\">\n",
       "  <thead>\n",
       "    <tr style=\"text-align: right;\">\n",
       "      <th></th>\n",
       "      <th>special_features_Behind the Scenes</th>\n",
       "      <th>special_features_Commentaries</th>\n",
       "      <th>special_features_Commentaries,Behind the Scenes</th>\n",
       "      <th>special_features_Commentaries,Deleted Scenes</th>\n",
       "      <th>special_features_Commentaries,Deleted Scenes,Behind the Scenes</th>\n",
       "      <th>special_features_Deleted Scenes</th>\n",
       "      <th>special_features_Deleted Scenes,Behind the Scenes</th>\n",
       "      <th>special_features_Trailers</th>\n",
       "      <th>special_features_Trailers,Behind the Scenes</th>\n",
       "      <th>special_features_Trailers,Commentaries</th>\n",
       "      <th>...</th>\n",
       "      <th>title_WORST BANGER</th>\n",
       "      <th>title_WRATH MILE</th>\n",
       "      <th>title_WRONG BEHAVIOR</th>\n",
       "      <th>title_WYOMING STORM</th>\n",
       "      <th>title_YENTL IDAHO</th>\n",
       "      <th>title_YOUNG LANGUAGE</th>\n",
       "      <th>title_YOUTH KICK</th>\n",
       "      <th>title_ZHIVAGO CORE</th>\n",
       "      <th>title_ZOOLANDER FICTION</th>\n",
       "      <th>title_ZORRO ARK</th>\n",
       "    </tr>\n",
       "  </thead>\n",
       "  <tbody>\n",
       "    <tr>\n",
       "      <th>0</th>\n",
       "      <td>0</td>\n",
       "      <td>0</td>\n",
       "      <td>0</td>\n",
       "      <td>1</td>\n",
       "      <td>0</td>\n",
       "      <td>0</td>\n",
       "      <td>0</td>\n",
       "      <td>0</td>\n",
       "      <td>0</td>\n",
       "      <td>0</td>\n",
       "      <td>...</td>\n",
       "      <td>0</td>\n",
       "      <td>0</td>\n",
       "      <td>0</td>\n",
       "      <td>0</td>\n",
       "      <td>0</td>\n",
       "      <td>0</td>\n",
       "      <td>0</td>\n",
       "      <td>0</td>\n",
       "      <td>0</td>\n",
       "      <td>0</td>\n",
       "    </tr>\n",
       "    <tr>\n",
       "      <th>1</th>\n",
       "      <td>0</td>\n",
       "      <td>0</td>\n",
       "      <td>0</td>\n",
       "      <td>0</td>\n",
       "      <td>1</td>\n",
       "      <td>0</td>\n",
       "      <td>0</td>\n",
       "      <td>0</td>\n",
       "      <td>0</td>\n",
       "      <td>0</td>\n",
       "      <td>...</td>\n",
       "      <td>0</td>\n",
       "      <td>0</td>\n",
       "      <td>0</td>\n",
       "      <td>0</td>\n",
       "      <td>0</td>\n",
       "      <td>0</td>\n",
       "      <td>0</td>\n",
       "      <td>0</td>\n",
       "      <td>0</td>\n",
       "      <td>0</td>\n",
       "    </tr>\n",
       "    <tr>\n",
       "      <th>2</th>\n",
       "      <td>0</td>\n",
       "      <td>1</td>\n",
       "      <td>0</td>\n",
       "      <td>0</td>\n",
       "      <td>0</td>\n",
       "      <td>0</td>\n",
       "      <td>0</td>\n",
       "      <td>0</td>\n",
       "      <td>0</td>\n",
       "      <td>0</td>\n",
       "      <td>...</td>\n",
       "      <td>0</td>\n",
       "      <td>0</td>\n",
       "      <td>0</td>\n",
       "      <td>0</td>\n",
       "      <td>0</td>\n",
       "      <td>0</td>\n",
       "      <td>0</td>\n",
       "      <td>0</td>\n",
       "      <td>0</td>\n",
       "      <td>0</td>\n",
       "    </tr>\n",
       "    <tr>\n",
       "      <th>3</th>\n",
       "      <td>0</td>\n",
       "      <td>0</td>\n",
       "      <td>0</td>\n",
       "      <td>0</td>\n",
       "      <td>1</td>\n",
       "      <td>0</td>\n",
       "      <td>0</td>\n",
       "      <td>0</td>\n",
       "      <td>0</td>\n",
       "      <td>0</td>\n",
       "      <td>...</td>\n",
       "      <td>0</td>\n",
       "      <td>0</td>\n",
       "      <td>0</td>\n",
       "      <td>0</td>\n",
       "      <td>0</td>\n",
       "      <td>0</td>\n",
       "      <td>0</td>\n",
       "      <td>0</td>\n",
       "      <td>0</td>\n",
       "      <td>0</td>\n",
       "    </tr>\n",
       "    <tr>\n",
       "      <th>4</th>\n",
       "      <td>0</td>\n",
       "      <td>0</td>\n",
       "      <td>0</td>\n",
       "      <td>0</td>\n",
       "      <td>0</td>\n",
       "      <td>0</td>\n",
       "      <td>0</td>\n",
       "      <td>0</td>\n",
       "      <td>0</td>\n",
       "      <td>0</td>\n",
       "      <td>...</td>\n",
       "      <td>0</td>\n",
       "      <td>0</td>\n",
       "      <td>0</td>\n",
       "      <td>0</td>\n",
       "      <td>0</td>\n",
       "      <td>0</td>\n",
       "      <td>0</td>\n",
       "      <td>0</td>\n",
       "      <td>0</td>\n",
       "      <td>0</td>\n",
       "    </tr>\n",
       "  </tbody>\n",
       "</table>\n",
       "<p>5 rows × 973 columns</p>\n",
       "</div>"
      ],
      "text/plain": [
       "   special_features_Behind the Scenes  special_features_Commentaries  \\\n",
       "0                                   0                              0   \n",
       "1                                   0                              0   \n",
       "2                                   0                              1   \n",
       "3                                   0                              0   \n",
       "4                                   0                              0   \n",
       "\n",
       "   special_features_Commentaries,Behind the Scenes  \\\n",
       "0                                                0   \n",
       "1                                                0   \n",
       "2                                                0   \n",
       "3                                                0   \n",
       "4                                                0   \n",
       "\n",
       "   special_features_Commentaries,Deleted Scenes  \\\n",
       "0                                             1   \n",
       "1                                             0   \n",
       "2                                             0   \n",
       "3                                             0   \n",
       "4                                             0   \n",
       "\n",
       "   special_features_Commentaries,Deleted Scenes,Behind the Scenes  \\\n",
       "0                                                  0                \n",
       "1                                                  1                \n",
       "2                                                  0                \n",
       "3                                                  1                \n",
       "4                                                  0                \n",
       "\n",
       "   special_features_Deleted Scenes  \\\n",
       "0                                0   \n",
       "1                                0   \n",
       "2                                0   \n",
       "3                                0   \n",
       "4                                0   \n",
       "\n",
       "   special_features_Deleted Scenes,Behind the Scenes  \\\n",
       "0                                                  0   \n",
       "1                                                  0   \n",
       "2                                                  0   \n",
       "3                                                  0   \n",
       "4                                                  0   \n",
       "\n",
       "   special_features_Trailers  special_features_Trailers,Behind the Scenes  \\\n",
       "0                          0                                            0   \n",
       "1                          0                                            0   \n",
       "2                          0                                            0   \n",
       "3                          0                                            0   \n",
       "4                          0                                            0   \n",
       "\n",
       "   special_features_Trailers,Commentaries  ...  title_WORST BANGER  \\\n",
       "0                                       0  ...                   0   \n",
       "1                                       0  ...                   0   \n",
       "2                                       0  ...                   0   \n",
       "3                                       0  ...                   0   \n",
       "4                                       0  ...                   0   \n",
       "\n",
       "   title_WRATH MILE  title_WRONG BEHAVIOR  title_WYOMING STORM  \\\n",
       "0                 0                     0                    0   \n",
       "1                 0                     0                    0   \n",
       "2                 0                     0                    0   \n",
       "3                 0                     0                    0   \n",
       "4                 0                     0                    0   \n",
       "\n",
       "   title_YENTL IDAHO  title_YOUNG LANGUAGE  title_YOUTH KICK  \\\n",
       "0                  0                     0                 0   \n",
       "1                  0                     0                 0   \n",
       "2                  0                     0                 0   \n",
       "3                  0                     0                 0   \n",
       "4                  0                     0                 0   \n",
       "\n",
       "   title_ZHIVAGO CORE  title_ZOOLANDER FICTION  title_ZORRO ARK  \n",
       "0                   0                        0                0  \n",
       "1                   0                        0                0  \n",
       "2                   0                        0                0  \n",
       "3                   0                        0                0  \n",
       "4                   0                        0                0  \n",
       "\n",
       "[5 rows x 973 columns]"
      ]
     },
     "execution_count": 18,
     "metadata": {},
     "output_type": "execute_result"
    }
   ],
   "source": [
    "categorical.head()"
   ]
  },
  {
   "cell_type": "markdown",
   "id": "de7a45df",
   "metadata": {},
   "source": [
    "# Train test model"
   ]
  },
  {
   "cell_type": "code",
   "execution_count": 19,
   "id": "a8a309ad",
   "metadata": {},
   "outputs": [],
   "source": [
    "#Seperating the target and all other categorical an numerical columns\n",
    "y = data2['rented_last_month'] # Target seperated\n",
    "X = np.concatenate((x, categorical), axis=1) # Numerical and dummies from categoricals"
   ]
  },
  {
   "cell_type": "code",
   "execution_count": 20,
   "id": "677e79d0",
   "metadata": {},
   "outputs": [],
   "source": [
    "#training 70% and testing 30% of the data by seperating them\n",
    "X_train, X_test, y_train, y_test = train_test_split(X, y, test_size=0.5, random_state=100)"
   ]
  },
  {
   "cell_type": "code",
   "execution_count": 21,
   "id": "425d1a36",
   "metadata": {},
   "outputs": [
    {
     "data": {
      "text/plain": [
       "8022"
      ]
     },
     "execution_count": 21,
     "metadata": {},
     "output_type": "execute_result"
    }
   ],
   "source": [
    "len(X_train)"
   ]
  },
  {
   "cell_type": "code",
   "execution_count": 22,
   "id": "287141fa",
   "metadata": {
    "scrolled": true
   },
   "outputs": [
    {
     "data": {
      "text/plain": [
       "14365    NO\n",
       "14255    NO\n",
       "14826    NO\n",
       "4407     NO\n",
       "6703     NO\n",
       "         ..\n",
       "12119    NO\n",
       "8039     NO\n",
       "14147    NO\n",
       "6936     NO\n",
       "5640     NO\n",
       "Name: rented_last_month, Length: 8022, dtype: object"
      ]
     },
     "execution_count": 22,
     "metadata": {},
     "output_type": "execute_result"
    }
   ],
   "source": [
    "y_train"
   ]
  },
  {
   "cell_type": "markdown",
   "id": "b0c9244b",
   "metadata": {},
   "source": [
    "*It seems that as the number of 'Yes' answers is very low compared to the number of 'No\" answers, the models doesn't take into account 'yes' answers and I can't see any 'yes' answer in y_train. So the model is biased towards 'No' answer.*"
   ]
  },
  {
   "cell_type": "code",
   "execution_count": 23,
   "id": "f6eca6c6",
   "metadata": {},
   "outputs": [],
   "source": [
    "# We traing the training dataset using Logistic Regression (No multiclass classification as we only have 2 unique values for target)\n",
    "classification = LogisticRegression(random_state=0).fit(X_train, y_train)"
   ]
  },
  {
   "cell_type": "markdown",
   "id": "1eef0838",
   "metadata": {},
   "source": [
    "# Evaluating the results"
   ]
  },
  {
   "cell_type": "code",
   "execution_count": 24,
   "id": "3ffe717a",
   "metadata": {},
   "outputs": [],
   "source": [
    "# We predict on the testing dataset\n",
    "predictions = classification.predict(X_test)"
   ]
  },
  {
   "cell_type": "code",
   "execution_count": 25,
   "id": "52846289",
   "metadata": {
    "scrolled": true
   },
   "outputs": [
    {
     "data": {
      "text/plain": [
       "NO    8022\n",
       "dtype: int64"
      ]
     },
     "execution_count": 25,
     "metadata": {},
     "output_type": "execute_result"
    }
   ],
   "source": [
    "pd.Series(predictions).value_counts()"
   ]
  },
  {
   "cell_type": "markdown",
   "id": "ef79938f",
   "metadata": {},
   "source": [
    "* There are no 'Yes' answers among the predictions!!*"
   ]
  },
  {
   "cell_type": "code",
   "execution_count": 26,
   "id": "44379ecb",
   "metadata": {},
   "outputs": [
    {
     "data": {
      "text/plain": [
       "NO     7988\n",
       "YES      34\n",
       "Name: rented_last_month, dtype: int64"
      ]
     },
     "execution_count": 26,
     "metadata": {},
     "output_type": "execute_result"
    }
   ],
   "source": [
    "y_test.value_counts()"
   ]
  },
  {
   "cell_type": "code",
   "execution_count": 27,
   "id": "744f5977",
   "metadata": {},
   "outputs": [
    {
     "data": {
      "text/plain": [
       "array([[7988,    0],\n",
       "       [  34,    0]], dtype=int64)"
      ]
     },
     "execution_count": 27,
     "metadata": {},
     "output_type": "execute_result"
    }
   ],
   "source": [
    "from sklearn.metrics import confusion_matrix\n",
    "confusion_matrix(y_test, predictions)"
   ]
  },
  {
   "cell_type": "code",
   "execution_count": 30,
   "id": "f393ac4a",
   "metadata": {},
   "outputs": [
    {
     "data": {
      "text/plain": [
       "0.9957616554475193"
      ]
     },
     "execution_count": 30,
     "metadata": {},
     "output_type": "execute_result"
    }
   ],
   "source": [
    "#Accuracy\n",
    "classification.score(X_test, y_test)"
   ]
  },
  {
   "cell_type": "code",
   "execution_count": 31,
   "id": "ee2cfc68",
   "metadata": {
    "scrolled": true
   },
   "outputs": [
    {
     "name": "stdout",
     "output_type": "stream",
     "text": [
      "\n",
      "Accuracy: 1.00\n",
      "\n"
     ]
    }
   ],
   "source": [
    "# Accuracy\n",
    "from sklearn.metrics import accuracy_score\n",
    "print('\\nAccuracy: {:.2f}\\n'.format(accuracy_score(y_test, predictions)))"
   ]
  },
  {
   "cell_type": "markdown",
   "id": "90082c9b",
   "metadata": {},
   "source": [
    "* Even if the accuracy is very 1!!, this is not definitely correct! It's very high as the number of 'No' answers are very similar in the predictions and test samples! But the models doesn't take into account 'yes' answers*"
   ]
  },
  {
   "cell_type": "code",
   "execution_count": null,
   "id": "1e1df594",
   "metadata": {},
   "outputs": [],
   "source": []
  }
 ],
 "metadata": {
  "kernelspec": {
   "display_name": "Python 3 (ipykernel)",
   "language": "python",
   "name": "python3"
  },
  "language_info": {
   "codemirror_mode": {
    "name": "ipython",
    "version": 3
   },
   "file_extension": ".py",
   "mimetype": "text/x-python",
   "name": "python",
   "nbconvert_exporter": "python",
   "pygments_lexer": "ipython3",
   "version": "3.9.13"
  }
 },
 "nbformat": 4,
 "nbformat_minor": 5
}
